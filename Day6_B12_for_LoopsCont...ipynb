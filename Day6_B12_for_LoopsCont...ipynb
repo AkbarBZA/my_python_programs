{
 "cells": [
  {
   "cell_type": "code",
   "execution_count": null,
   "metadata": {},
   "outputs": [],
   "source": [
    "introduction to for loops"
   ]
  },
  {
   "cell_type": "code",
   "execution_count": 2,
   "metadata": {},
   "outputs": [
    {
     "name": "stdout",
     "output_type": "stream",
     "text": [
      "['bhavani', 'zakir', 'ranga', 'divya', 'srinivas', 'suresh', 'mohan']\n"
     ]
    }
   ],
   "source": [
    "my_students=['bhavani','zakir','ranga','divya','srinivas','suresh','mohan']\n",
    "\n",
    "print(my_students)"
   ]
  },
  {
   "cell_type": "code",
   "execution_count": 3,
   "metadata": {},
   "outputs": [
    {
     "data": {
      "text/plain": [
       "list"
      ]
     },
     "execution_count": 3,
     "metadata": {},
     "output_type": "execute_result"
    }
   ],
   "source": [
    "type(my_students)"
   ]
  },
  {
   "cell_type": "code",
   "execution_count": 5,
   "metadata": {},
   "outputs": [],
   "source": [
    "# writing for loop \n",
    "#for ----->temp variable then main variable -----> take care of the indentation:\n",
    "#print(temp var)\n",
    "#iteration----> "
   ]
  },
  {
   "cell_type": "code",
   "execution_count": 6,
   "metadata": {},
   "outputs": [
    {
     "name": "stdout",
     "output_type": "stream",
     "text": [
      "bhavani\n",
      "zakir\n",
      "ranga\n",
      "divya\n",
      "srinivas\n",
      "suresh\n",
      "mohan\n"
     ]
    }
   ],
   "source": [
    "for student in my_students:\n",
    "    \n",
    " print(student)   "
   ]
  },
  {
   "cell_type": "code",
   "execution_count": null,
   "metadata": {},
   "outputs": [],
   "source": [
    "#Enhancment of the for loop\n",
    "#automating the print statements\n",
    "# gap after for loop is called indentened part"
   ]
  },
  {
   "cell_type": "code",
   "execution_count": 7,
   "metadata": {},
   "outputs": [
    {
     "name": "stdout",
     "output_type": "stream",
     "text": [
      "['bhavani', 'zakir', 'ranga', 'divya', 'srinivas', 'suresh', 'mohan']\n"
     ]
    }
   ],
   "source": [
    "print(my_students)"
   ]
  },
  {
   "cell_type": "code",
   "execution_count": null,
   "metadata": {},
   "outputs": [],
   "source": [
    "# req: automate the print statement for everyone"
   ]
  },
  {
   "cell_type": "code",
   "execution_count": 9,
   "metadata": {},
   "outputs": [
    {
     "name": "stdout",
     "output_type": "stream",
     "text": [
      "Bhavani,good job for completing the practise regularly!!\n",
      "Zakir,good job for completing the practise regularly!!\n",
      "Ranga,good job for completing the practise regularly!!\n",
      "Divya,good job for completing the practise regularly!!\n",
      "Srinivas,good job for completing the practise regularly!!\n",
      "Suresh,good job for completing the practise regularly!!\n",
      "Mohan,good job for completing the practise regularly!!\n"
     ]
    }
   ],
   "source": [
    "for x in my_students:\n",
    "   print(f\"{x.title()},good job for completing the practise regularly!!\")"
   ]
  },
  {
   "cell_type": "code",
   "execution_count": 13,
   "metadata": {},
   "outputs": [],
   "source": [
    "new_students=['bhavana','ranga','chary','alphonse','daniel']"
   ]
  },
  {
   "cell_type": "code",
   "execution_count": 14,
   "metadata": {},
   "outputs": [
    {
     "name": "stdout",
     "output_type": "stream",
     "text": [
      "Thanks for joinng the session on time Bhavana\n",
      "Thanks for joinng the session on time Ranga\n",
      "Thanks for joinng the session on time Chary\n",
      "Thanks for joinng the session on time Alphonse\n",
      "Thanks for joinng the session on time Daniel\n"
     ]
    }
   ],
   "source": [
    "for student in new_students:\n",
    "    print(f\"Thanks for joinng the session on time {student.title()}\" )\n",
    "    "
   ]
  },
  {
   "cell_type": "code",
   "execution_count": null,
   "metadata": {},
   "outputs": [],
   "source": [
    "#further enhancement of the code:"
   ]
  },
  {
   "cell_type": "code",
   "execution_count": 28,
   "metadata": {},
   "outputs": [
    {
     "name": "stdout",
     "output_type": "stream",
     "text": [
      " Thanks for joining the session on time Bhavana \n",
      " Thanks for joining the session on time Ranga \n",
      " Thanks for joining the session on time Chary \n",
      " Thanks for joining the session on time Alphonse \n",
      " Thanks for joining the session on time Daniel \n",
      "\n",
      "Thanks everyone for showing interest in learing Python\n"
     ]
    }
   ],
   "source": [
    "for student in new_students:\n",
    "\n",
    "    print(f\" Thanks for joining the session on time {student.title()} \")  \n",
    "    \n",
    "#print('Thanks everyone for showing interest in learing Python')# make sure to start line without any indentation so that it will print after completing the loop\n",
    "\n",
    "print('\\nThanks everyone for showing interest in learing Python')## make sure to start line without any indentation so that it will print after completing the loop"
   ]
  },
  {
   "cell_type": "code",
   "execution_count": null,
   "metadata": {},
   "outputs": [],
   "source": [
    "#making a numerical list\n",
    "# last value in the range is always exclusive----->"
   ]
  },
  {
   "cell_type": "code",
   "execution_count": 31,
   "metadata": {
    "scrolled": true
   },
   "outputs": [
    {
     "name": "stdout",
     "output_type": "stream",
     "text": [
      "1\n",
      "2\n",
      "3\n",
      "4\n",
      "5\n",
      "6\n",
      "7\n",
      "8\n",
      "9\n"
     ]
    }
   ],
   "source": [
    "for numbers in range (1,10):\n",
    "    print(numbers)"
   ]
  },
  {
   "cell_type": "code",
   "execution_count": null,
   "metadata": {},
   "outputs": [],
   "source": [
    "# how to use range to make a list of numbers:"
   ]
  },
  {
   "cell_type": "code",
   "execution_count": 34,
   "metadata": {},
   "outputs": [
    {
     "name": "stdout",
     "output_type": "stream",
     "text": [
      "[1, 2, 3, 4, 5, 6, 7, 8, 9, 10, 11, 12, 13, 14, 15, 16, 17, 18, 19]\n"
     ]
    }
   ],
   "source": [
    "numerals= list(range(1,20)) \n",
    "print(numerals)"
   ]
  },
  {
   "cell_type": "code",
   "execution_count": null,
   "metadata": {},
   "outputs": [],
   "source": [
    "# range is also having a step count validation\n",
    "# req: want to print only even numbers from 1,50 by using the range:"
   ]
  },
  {
   "cell_type": "code",
   "execution_count": 40,
   "metadata": {},
   "outputs": [
    {
     "name": "stdout",
     "output_type": "stream",
     "text": [
      "[2, 4, 6, 8, 10, 12, 14, 16, 18, 20, 22, 24, 26, 28, 30, 32, 34, 36, 38, 40, 42, 44, 46, 48, 50]\n"
     ]
    }
   ],
   "source": [
    "even_num=list(range(2,51,2))\n",
    "print(even_num)"
   ]
  },
  {
   "cell_type": "code",
   "execution_count": null,
   "metadata": {},
   "outputs": [],
   "source": []
  }
 ],
 "metadata": {
  "kernelspec": {
   "display_name": "Python 3",
   "language": "python",
   "name": "python3"
  },
  "language_info": {
   "codemirror_mode": {
    "name": "ipython",
    "version": 3
   },
   "file_extension": ".py",
   "mimetype": "text/x-python",
   "name": "python",
   "nbconvert_exporter": "python",
   "pygments_lexer": "ipython3",
   "version": "3.7.4"
  }
 },
 "nbformat": 4,
 "nbformat_minor": 2
}
