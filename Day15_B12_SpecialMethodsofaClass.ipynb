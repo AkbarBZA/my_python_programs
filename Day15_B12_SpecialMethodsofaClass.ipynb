{
 "cells": [
  {
   "cell_type": "code",
   "execution_count": null,
   "metadata": {},
   "outputs": [],
   "source": [
    "# Special methods of a class!!"
   ]
  },
  {
   "cell_type": "code",
   "execution_count": null,
   "metadata": {},
   "outputs": [],
   "source": [
    "#introduction to constructor**\n",
    "\n",
    "#it is bascially initilizing the the class\n",
    "#initializer/automatically invokes the attributes inside it\n",
    "#how to define a constructor\n",
    "#def_init_# use double underscores"
   ]
  },
  {
   "cell_type": "code",
   "execution_count": null,
   "metadata": {},
   "outputs": [],
   "source": []
  },
  {
   "cell_type": "code",
   "execution_count": 7,
   "metadata": {},
   "outputs": [],
   "source": [
    "class Dog:\n",
    "    \"\"\" A simple attempt to model a Dog\"\"\" \n",
    "    \n",
    "    def __init__(self,name,age):\n",
    "        self.name = name\n",
    "        self.age = age\n",
    "        print('successfully executed and called out')\n",
    "    \n",
    "    def sit(self):\n",
    "        \"\"\" simulate a dog sitting in response to a command\"\"\"\n",
    "        print(f\"{self.name} is now sitting\")\n",
    "    \n",
    "    def roll_over(self):\n",
    "        \"\"\" simulate a dog rollover in response to a command\"\"\"\n",
    "        print(f\"{self.name} rolled over\")"
   ]
  },
  {
   "cell_type": "code",
   "execution_count": 8,
   "metadata": {},
   "outputs": [
    {
     "name": "stdout",
     "output_type": "stream",
     "text": [
      "successfully executed and called out\n"
     ]
    }
   ],
   "source": [
    "xobj=Dog('rex',4)"
   ]
  },
  {
   "cell_type": "code",
   "execution_count": 9,
   "metadata": {},
   "outputs": [
    {
     "name": "stdout",
     "output_type": "stream",
     "text": [
      "rex is now sitting\n"
     ]
    }
   ],
   "source": [
    "xobj.sit()"
   ]
  },
  {
   "cell_type": "code",
   "execution_count": 11,
   "metadata": {},
   "outputs": [
    {
     "name": "stdout",
     "output_type": "stream",
     "text": [
      "rex rolled over\n"
     ]
    }
   ],
   "source": [
    "xobj.roll_over()"
   ]
  },
  {
   "cell_type": "code",
   "execution_count": null,
   "metadata": {},
   "outputs": [],
   "source": [
    "#req: parameters!\n",
    "# what if w are not sure what kind of parameters it is going to accept"
   ]
  },
  {
   "cell_type": "code",
   "execution_count": null,
   "metadata": {},
   "outputs": [],
   "source": [
    "# req:---->"
   ]
  },
  {
   "cell_type": "code",
   "execution_count": null,
   "metadata": {},
   "outputs": [],
   "source": [
    "#introduction to passing arbitary num of arguments"
   ]
  },
  {
   "cell_type": "code",
   "execution_count": 46,
   "metadata": {},
   "outputs": [],
   "source": [
    "def pizza(*toppings):\n",
    "    \"\"\"print list of tppings that have been requested\"\"\"\n",
    "    print(toppings)"
   ]
  },
  {
   "cell_type": "code",
   "execution_count": 47,
   "metadata": {},
   "outputs": [
    {
     "name": "stdout",
     "output_type": "stream",
     "text": [
      "('jalepeno', 'cheese')\n"
     ]
    }
   ],
   "source": [
    "pizza('jalepeno','cheese')"
   ]
  },
  {
   "cell_type": "code",
   "execution_count": null,
   "metadata": {},
   "outputs": [],
   "source": [
    "# enhancment of the code!"
   ]
  },
  {
   "cell_type": "code",
   "execution_count": 29,
   "metadata": {},
   "outputs": [],
   "source": [
    "def order_pizza(*toppings): #* ---> kwargs\n",
    "    \"\"\" print the list of toppings that have been requested \"\"\"\n",
    "    print(f\"\\nOrdering a pizza with the following toppings\")\n",
    "    for topping in toppings:\n",
    "        print(f\"-{topping}\".title())     \n",
    "    "
   ]
  },
  {
   "cell_type": "code",
   "execution_count": 30,
   "metadata": {},
   "outputs": [
    {
     "name": "stdout",
     "output_type": "stream",
     "text": [
      "\n",
      "Ordering a pizza with the following toppings\n",
      "-Olive\n",
      "-Mushoorm\n",
      "-Jalepeno\n",
      "-Chicken\n",
      "-Pineapple\n"
     ]
    }
   ],
   "source": [
    "order_pizza('olive','mushoorm','jalepeno','chicken','pineapple')"
   ]
  },
  {
   "cell_type": "code",
   "execution_count": null,
   "metadata": {},
   "outputs": [],
   "source": [
    "# req is to define the size of the pizza as well"
   ]
  },
  {
   "cell_type": "code",
   "execution_count": 57,
   "metadata": {},
   "outputs": [],
   "source": [
    "def new_pizza(size,*toppings):\n",
    "    \"\"\" print the list of toppings that have been requested\"\"\"\n",
    "    print(f\" I ordered a {size} inch X Large pizza with {toppings}\")  "
   ]
  },
  {
   "cell_type": "code",
   "execution_count": 58,
   "metadata": {},
   "outputs": [
    {
     "name": "stdout",
     "output_type": "stream",
     "text": [
      " I ordered a 16 inch X Large pizza with ('Tomato', 'corn', 'mushrom')\n"
     ]
    }
   ],
   "source": [
    "new_pizza(16,'Tomato','corn','mushrom')"
   ]
  },
  {
   "cell_type": "code",
   "execution_count": null,
   "metadata": {},
   "outputs": [],
   "source": []
  },
  {
   "cell_type": "code",
   "execution_count": null,
   "metadata": {},
   "outputs": [],
   "source": []
  }
 ],
 "metadata": {
  "kernelspec": {
   "display_name": "Python 3",
   "language": "python",
   "name": "python3"
  },
  "language_info": {
   "codemirror_mode": {
    "name": "ipython",
    "version": 3
   },
   "file_extension": ".py",
   "mimetype": "text/x-python",
   "name": "python",
   "nbconvert_exporter": "python",
   "pygments_lexer": "ipython3",
   "version": "3.7.4"
  }
 },
 "nbformat": 4,
 "nbformat_minor": 2
}
