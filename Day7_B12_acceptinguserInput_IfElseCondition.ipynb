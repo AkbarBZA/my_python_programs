{
 "cells": [
  {
   "cell_type": "code",
   "execution_count": 3,
   "metadata": {},
   "outputs": [],
   "source": [
    "#accepting the user input\n",
    "#e.g: username\n",
    " #   email_id\n",
    "  #  contact_num"
   ]
  },
  {
   "cell_type": "code",
   "execution_count": 2,
   "metadata": {},
   "outputs": [
    {
     "name": "stdout",
     "output_type": "stream",
     "text": [
      "tell me somehting i will repeat it back for you!Practise Python everyday\n",
      "Practise Python everyday\n"
     ]
    }
   ],
   "source": [
    "message=input('tell me somehting i will repeat it back for you!')\n",
    "print(message)"
   ]
  },
  {
   "cell_type": "code",
   "execution_count": null,
   "metadata": {},
   "outputs": [],
   "source": [
    "#enhancement of the code:"
   ]
  },
  {
   "cell_type": "code",
   "execution_count": 4,
   "metadata": {},
   "outputs": [
    {
     "name": "stdout",
     "output_type": "stream",
     "text": [
      "Enter your hometown:vijayawada\n",
      "your homewtown is vijayawada\n"
     ]
    }
   ],
   "source": [
    "city=input('Enter your hometown:')\n",
    "print(f\"your homewtown is {city}\")"
   ]
  },
  {
   "cell_type": "code",
   "execution_count": 3,
   "metadata": {},
   "outputs": [
    {
     "name": "stdout",
     "output_type": "stream",
     "text": [
      "Enter your name:Akbar Syed\n",
      "\n",
      "Welcome back, Akbar Syed\n"
     ]
    }
   ],
   "source": [
    "name=input('Enter your name:')\n",
    "print(f\"\\nWelcome back, {name}\")"
   ]
  },
  {
   "cell_type": "code",
   "execution_count": null,
   "metadata": {},
   "outputs": [],
   "source": [
    "# understanding the concept of if conditions:\n",
    "#case study : building a simple voting application:\n",
    "#Ground Rules: >=18---- eligigle to vote\n",
    "#failing this condition : not eligibale to vote, try next year."
   ]
  },
  {
   "cell_type": "code",
   "execution_count": null,
   "metadata": {},
   "outputs": [],
   "source": [
    "age=input('How old are you:')\n",
    "if age>=18:\n",
    "    print(\"You are Eligible to Vote\")\n",
    "else:\n",
    "        print(\" You are not eligible to vote, wait till you turn 18 \")\n"
   ]
  },
  {
   "cell_type": "code",
   "execution_count": 2,
   "metadata": {},
   "outputs": [
    {
     "name": "stdout",
     "output_type": "stream",
     "text": [
      "enter your age16\n",
      "you are not eligible to vote, wait till you turn 18\n"
     ]
    }
   ],
   "source": [
    "age=input(\"enter your age\")\n",
    "age=int(age)\n",
    "if age>=18:\n",
    "    print(\"you are eligible to vote\")\n",
    "else:\n",
    "    print(\"you are not eligible to vote, wait till you turn 18\")"
   ]
  },
  {
   "cell_type": "code",
   "execution_count": null,
   "metadata": {},
   "outputs": [],
   "source": []
  }
 ],
 "metadata": {
  "kernelspec": {
   "display_name": "Python 3",
   "language": "python",
   "name": "python3"
  },
  "language_info": {
   "codemirror_mode": {
    "name": "ipython",
    "version": 3
   },
   "file_extension": ".py",
   "mimetype": "text/x-python",
   "name": "python",
   "nbconvert_exporter": "python",
   "pygments_lexer": "ipython3",
   "version": "3.7.4"
  }
 },
 "nbformat": 4,
 "nbformat_minor": 2
}
