{
 "cells": [
  {
   "cell_type": "code",
   "execution_count": 1,
   "metadata": {},
   "outputs": [],
   "source": [
    "#code- reusability"
   ]
  },
  {
   "cell_type": "code",
   "execution_count": 2,
   "metadata": {},
   "outputs": [],
   "source": [
    "def my_fun():\n",
    "    \"\"\" this is my doc \"\"\"\n",
    "    print(\"Hello from a Tom and Harry\")"
   ]
  },
  {
   "cell_type": "code",
   "execution_count": 3,
   "metadata": {},
   "outputs": [
    {
     "name": "stdout",
     "output_type": "stream",
     "text": [
      "Hello from a Tom and Harry\n"
     ]
    }
   ],
   "source": [
    "my_fun()"
   ]
  },
  {
   "cell_type": "code",
   "execution_count": 4,
   "metadata": {},
   "outputs": [],
   "source": [
    "#passing information to a function:\n",
    "#ehancment of the code....!"
   ]
  },
  {
   "cell_type": "code",
   "execution_count": 6,
   "metadata": {},
   "outputs": [],
   "source": [
    "def my_funda(username):\n",
    "    \"\"\" this is my enhanced code\"\"\"\n",
    "    print(f\"Welcome back, {username.title()}\")"
   ]
  },
  {
   "cell_type": "code",
   "execution_count": 7,
   "metadata": {},
   "outputs": [
    {
     "name": "stdout",
     "output_type": "stream",
     "text": [
      "Welcome back, Hema\n"
     ]
    }
   ],
   "source": [
    "my_funda('Hema')"
   ]
  },
  {
   "cell_type": "code",
   "execution_count": 9,
   "metadata": {},
   "outputs": [
    {
     "name": "stdout",
     "output_type": "stream",
     "text": [
      "Welcome back, Gam\n"
     ]
    }
   ],
   "source": [
    "my_funda('gam')"
   ]
  },
  {
   "cell_type": "code",
   "execution_count": 12,
   "metadata": {},
   "outputs": [
    {
     "name": "stdout",
     "output_type": "stream",
     "text": [
      "Welcome back, Robert Smith\n"
     ]
    }
   ],
   "source": [
    "my_funda('robert smith')"
   ]
  },
  {
   "cell_type": "code",
   "execution_count": null,
   "metadata": {},
   "outputs": [],
   "source": [
    "#Types of arguments:\n",
    "#1. Positional argument\n",
    "#2. Keyword arguments\n",
    "#3. default arguments (Hard coding the values)"
   ]
  },
  {
   "cell_type": "code",
   "execution_count": 13,
   "metadata": {},
   "outputs": [],
   "source": [
    "def my_pet(animal_type,pet_name):\n",
    "    \"\"\"Display information about the pet \"\"\"\n",
    "    print(f\"\\n I have a {animal_type}\")# \\n\n",
    "    print(f\"\\n my {animal_type.title()}'s name is {pet_name.title()}\")"
   ]
  },
  {
   "cell_type": "code",
   "execution_count": null,
   "metadata": {},
   "outputs": [],
   "source": [
    "# func call"
   ]
  },
  {
   "cell_type": "code",
   "execution_count": 14,
   "metadata": {},
   "outputs": [
    {
     "name": "stdout",
     "output_type": "stream",
     "text": [
      "\n",
      " I have a dog\n",
      "\n",
      " my Dog's name is Bruno\n"
     ]
    }
   ],
   "source": [
    "my_pet('dog','bruno')"
   ]
  },
  {
   "cell_type": "code",
   "execution_count": 15,
   "metadata": {},
   "outputs": [
    {
     "name": "stdout",
     "output_type": "stream",
     "text": [
      "\n",
      " I have a snowbell\n",
      "\n",
      " my Snowbell's name is Cat\n"
     ]
    }
   ],
   "source": [
    "my_pet('snowbell','cat')# positions have been changed"
   ]
  },
  {
   "cell_type": "code",
   "execution_count": 16,
   "metadata": {},
   "outputs": [
    {
     "name": "stdout",
     "output_type": "stream",
     "text": [
      "\n",
      " I have a cat\n",
      "\n",
      " my Cat's name is Snowbell\n"
     ]
    }
   ],
   "source": [
    "my_pet('cat','snowbell')# by default the function will be accepting positional arguments"
   ]
  },
  {
   "cell_type": "code",
   "execution_count": 18,
   "metadata": {},
   "outputs": [
    {
     "name": "stdout",
     "output_type": "stream",
     "text": [
      "\n",
      " I have a dog\n",
      "\n",
      " my Dog's name is Bruno\n"
     ]
    }
   ],
   "source": [
    "my_pet(pet_name='bruno',animal_type='dog')# key word arguments"
   ]
  },
  {
   "cell_type": "code",
   "execution_count": null,
   "metadata": {},
   "outputs": [],
   "source": []
  }
 ],
 "metadata": {
  "kernelspec": {
   "display_name": "Python 3",
   "language": "python",
   "name": "python3"
  },
  "language_info": {
   "codemirror_mode": {
    "name": "ipython",
    "version": 3
   },
   "file_extension": ".py",
   "mimetype": "text/x-python",
   "name": "python",
   "nbconvert_exporter": "python",
   "pygments_lexer": "ipython3",
   "version": "3.7.4"
  }
 },
 "nbformat": 4,
 "nbformat_minor": 2
}
