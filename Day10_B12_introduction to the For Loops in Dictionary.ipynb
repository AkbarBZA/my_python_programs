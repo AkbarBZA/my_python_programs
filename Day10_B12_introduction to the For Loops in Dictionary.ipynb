{
 "cells": [
  {
   "cell_type": "code",
   "execution_count": null,
   "metadata": {},
   "outputs": [],
   "source": [
    "#Introduction to the for loops in dictionary\n",
    "\n",
    "#looping through all key value pairs"
   ]
  },
  {
   "cell_type": "code",
   "execution_count": 23,
   "metadata": {},
   "outputs": [
    {
     "name": "stdout",
     "output_type": "stream",
     "text": [
      "{'username': 'john92', 'first_name': 'John', 'last_name': 'smith'}\n"
     ]
    }
   ],
   "source": [
    "users_1={\n",
    "    'username': \"john92\",\n",
    "    'first_name': \"John\",\n",
    "    'last_name': \"smith\"\n",
    "}\n",
    "\n",
    "print(users_1)"
   ]
  },
  {
   "cell_type": "code",
   "execution_count": 27,
   "metadata": {},
   "outputs": [
    {
     "name": "stdout",
     "output_type": "stream",
     "text": [
      "\n",
      "key:username\n",
      "\n",
      "value:john92\n",
      "\n",
      "key:first_name\n",
      "\n",
      "value:John\n",
      "\n",
      "key:last_name\n",
      "\n",
      "value:smith\n"
     ]
    }
   ],
   "source": [
    "for key, value in users_1.items():\n",
    "    print(f\"\\nkey:{key}\")\n",
    "    print(f\"\\nvalue:{value}\")"
   ]
  },
  {
   "cell_type": "code",
   "execution_count": null,
   "metadata": {},
   "outputs": [],
   "source": [
    "#for tempvar in mainvar:\n",
    "#print(tempvar)\n",
    "\n",
    "# for key, value in users_1.items():\n",
    "# print(f\"\\nkey:{key}\")\n",
    "# print(f\"\\nvalue:{}value\")"
   ]
  },
  {
   "cell_type": "code",
   "execution_count": 32,
   "metadata": {},
   "outputs": [
    {
     "name": "stdout",
     "output_type": "stream",
     "text": [
      "\n",
      "abc:username\n",
      "\n",
      "xyz:john92\n",
      "\n",
      "abc:first_name\n",
      "\n",
      "xyz:John\n",
      "\n",
      "abc:last_name\n",
      "\n",
      "xyz:smith\n"
     ]
    }
   ],
   "source": [
    "for x,y in users_1.items():# x,y has been used as temporary variables\n",
    "    print(f\"\\nabc:{x}\") # ---> key:----> pre-defined by using f strings\n",
    "    print(f\"\\nxyz:{y}\") #----> value:---> pre-defined by using f strings "
   ]
  },
  {
   "cell_type": "code",
   "execution_count": null,
   "metadata": {},
   "outputs": [],
   "source": []
  },
  {
   "cell_type": "code",
   "execution_count": null,
   "metadata": {},
   "outputs": [],
   "source": [
    "#:req is to get only the keys in the for loop:"
   ]
  },
  {
   "cell_type": "code",
   "execution_count": 35,
   "metadata": {},
   "outputs": [
    {
     "name": "stdout",
     "output_type": "stream",
     "text": [
      "Username\n",
      "First_Name\n",
      "Last_Name\n"
     ]
    }
   ],
   "source": [
    "for name in users_1.keys():\n",
    "    print(name.title())"
   ]
  },
  {
   "cell_type": "code",
   "execution_count": null,
   "metadata": {},
   "outputs": [],
   "source": [
    "#req is to get only the values from the above dict:"
   ]
  },
  {
   "cell_type": "code",
   "execution_count": 36,
   "metadata": {},
   "outputs": [
    {
     "name": "stdout",
     "output_type": "stream",
     "text": [
      "John92\n",
      "John\n",
      "Smith\n"
     ]
    }
   ],
   "source": [
    "for test in users_1.values():\n",
    "    print(test.title())"
   ]
  },
  {
   "cell_type": "code",
   "execution_count": null,
   "metadata": {},
   "outputs": [],
   "source": [
    "# introduction to While loops\n",
    "#Defintion: as long as or till a certian condition is true, it will execute.\n",
    "# While"
   ]
  },
  {
   "cell_type": "code",
   "execution_count": null,
   "metadata": {},
   "outputs": [],
   "source": [
    "adding=1 # starting pont of the \n",
    "while adding <=5:# validating the code-part\n",
    "    print(adding)\n",
    "    adding+=1"
   ]
  },
  {
   "cell_type": "code",
   "execution_count": null,
   "metadata": {},
   "outputs": [],
   "source": [
    "#string\n",
    "list\n",
    "tuple\n",
    "dictionaires\n",
    "accetping the user input\n",
    "if conditions\n",
    "for looping\n",
    "while loop\n",
    "these are all built in functions availalble right away to use!!"
   ]
  },
  {
   "cell_type": "code",
   "execution_count": null,
   "metadata": {},
   "outputs": [],
   "source": [
    "# introduction to python function!!\n",
    "# code reusability ----> \n",
    "#write once --- read many---!\n",
    "# def- function definition\n",
    "# write once "
   ]
  },
  {
   "cell_type": "code",
   "execution_count": null,
   "metadata": {},
   "outputs": [],
   "source": [
    "def greet_user(): # fun name\n",
    "    \"\"\"Display a simple greeting \"\"\"\n",
    "    print('Hello')"
   ]
  },
  {
   "cell_type": "code",
   "execution_count": null,
   "metadata": {},
   "outputs": [],
   "source": [
    "# call the function\n",
    "greet_user()"
   ]
  },
  {
   "cell_type": "code",
   "execution_count": null,
   "metadata": {},
   "outputs": [],
   "source": [
    "# passing information to a fun:"
   ]
  },
  {
   "cell_type": "code",
   "execution_count": null,
   "metadata": {},
   "outputs": [],
   "source": [
    "def greet_user(username):\n",
    "    \"\"\" Display a simple greeting to the user\"\"\"\n",
    "    print(f\"Welcome back again,{username.title()}\")"
   ]
  },
  {
   "cell_type": "code",
   "execution_count": null,
   "metadata": {},
   "outputs": [],
   "source": [
    "greet_user('hema')"
   ]
  },
  {
   "cell_type": "code",
   "execution_count": null,
   "metadata": {},
   "outputs": [],
   "source": []
  }
 ],
 "metadata": {
  "kernelspec": {
   "display_name": "Python 3",
   "language": "python",
   "name": "python3"
  },
  "language_info": {
   "codemirror_mode": {
    "name": "ipython",
    "version": 3
   },
   "file_extension": ".py",
   "mimetype": "text/x-python",
   "name": "python",
   "nbconvert_exporter": "python",
   "pygments_lexer": "ipython3",
   "version": "3.7.4"
  }
 },
 "nbformat": 4,
 "nbformat_minor": 2
}
