{
 "cells": [
  {
   "cell_type": "code",
   "execution_count": null,
   "metadata": {},
   "outputs": [],
   "source": [
    "#File handling in Python"
   ]
  },
  {
   "cell_type": "code",
   "execution_count": 1,
   "metadata": {},
   "outputs": [
    {
     "name": "stdout",
     "output_type": "stream",
     "text": [
      "Hell all python programming in one of the most demanded language of 2020.\n",
      "It has been gaining lot of popularity in recent years.\n",
      "\n",
      "Thank you all for showing interest in learning python.\n"
     ]
    }
   ],
   "source": [
    "with open('sample_text.txt') as file_object:\n",
    "    contents=file_object.read()\n",
    "    print(contents)"
   ]
  },
  {
   "cell_type": "code",
   "execution_count": 2,
   "metadata": {},
   "outputs": [
    {
     "name": "stdout",
     "output_type": "stream",
     "text": [
      "5\n",
      "10\n",
      "15\n",
      "20\n",
      "25\n",
      "\n"
     ]
    }
   ],
   "source": [
    "with open('digits.txt') as digits_file:\n",
    "    digits=digits_file.read()\n",
    "    print(digits)"
   ]
  },
  {
   "cell_type": "code",
   "execution_count": 3,
   "metadata": {},
   "outputs": [
    {
     "name": "stdout",
     "output_type": "stream",
     "text": [
      "5\n",
      "\n",
      "10\n",
      "\n",
      "15\n",
      "\n",
      "20\n",
      "\n",
      "25\n",
      "\n"
     ]
    }
   ],
   "source": [
    "with open('digits.txt') as digits_file:\n",
    "    for line in digits_file:\n",
    "        print(line)"
   ]
  },
  {
   "cell_type": "code",
   "execution_count": 4,
   "metadata": {},
   "outputs": [
    {
     "name": "stdout",
     "output_type": "stream",
     "text": [
      "file over write.\n",
      "\n",
      "this text will be overwritten with new text\n"
     ]
    }
   ],
   "source": [
    "with open('overwrite.txt') as overrite_file:\n",
    "    contents=overrite_file.read()\n",
    "    print(contents)"
   ]
  },
  {
   "cell_type": "code",
   "execution_count": 5,
   "metadata": {},
   "outputs": [],
   "source": [
    "with open('overwrite.txt','w') as overwrite_file:\n",
    "    overwrite_file.write('this is overwritten text from the typing at jupyter,you guys are doing good job with practising the concepts covered in class regularly')"
   ]
  },
  {
   "cell_type": "code",
   "execution_count": 6,
   "metadata": {},
   "outputs": [
    {
     "name": "stdout",
     "output_type": "stream",
     "text": [
      "this is overwritten text from the typing at jupyter,you guys are doing good job with practising the concepts covered in class regularly\n"
     ]
    }
   ],
   "source": [
    "with open('overwrite.txt') as overwrite_file:\n",
    "    contents=overwrite_file.read()\n",
    "    print(contents)"
   ]
  },
  {
   "cell_type": "code",
   "execution_count": null,
   "metadata": {},
   "outputs": [],
   "source": []
  }
 ],
 "metadata": {
  "kernelspec": {
   "display_name": "Python 3",
   "language": "python",
   "name": "python3"
  },
  "language_info": {
   "codemirror_mode": {
    "name": "ipython",
    "version": 3
   },
   "file_extension": ".py",
   "mimetype": "text/x-python",
   "name": "python",
   "nbconvert_exporter": "python",
   "pygments_lexer": "ipython3",
   "version": "3.7.4"
  }
 },
 "nbformat": 4,
 "nbformat_minor": 2
}
