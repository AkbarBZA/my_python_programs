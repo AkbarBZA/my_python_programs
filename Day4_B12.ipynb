{
 "cells": [
  {
   "cell_type": "code",
   "execution_count": null,
   "metadata": {},
   "outputs": [],
   "source": [
    "# Adding, changing and removing elements from list "
   ]
  },
  {
   "cell_type": "code",
   "execution_count": 26,
   "metadata": {},
   "outputs": [],
   "source": [
    "my_class=['divya','srinivas','ranga','akbar','vinod']"
   ]
  },
  {
   "cell_type": "code",
   "execution_count": 27,
   "metadata": {},
   "outputs": [
    {
     "name": "stdout",
     "output_type": "stream",
     "text": [
      "['divya', 'srinivas', 'ranga', 'akbar', 'vinod']\n"
     ]
    }
   ],
   "source": [
    "print(my_class)"
   ]
  },
  {
   "cell_type": "code",
   "execution_count": null,
   "metadata": {},
   "outputs": [],
   "source": [
    "#adding new element to the existing class"
   ]
  },
  {
   "cell_type": "code",
   "execution_count": 31,
   "metadata": {},
   "outputs": [],
   "source": [
    "my_class.append('rama')"
   ]
  },
  {
   "cell_type": "code",
   "execution_count": 33,
   "metadata": {},
   "outputs": [
    {
     "name": "stdout",
     "output_type": "stream",
     "text": [
      "['divya', 'srinivas', 'ranga', 'akbar', 'vinod', 'rama', 'rama']\n"
     ]
    }
   ],
   "source": [
    "print(my_class)#adding the same value when we run again and again"
   ]
  },
  {
   "cell_type": "code",
   "execution_count": 35,
   "metadata": {},
   "outputs": [],
   "source": [
    "#Req:add a new student to index"
   ]
  },
  {
   "cell_type": "code",
   "execution_count": 37,
   "metadata": {},
   "outputs": [],
   "source": [
    "my_class[1]='Mark'# this funciaonltiy will replace the value in Index 1 "
   ]
  },
  {
   "cell_type": "code",
   "execution_count": 38,
   "metadata": {},
   "outputs": [
    {
     "name": "stdout",
     "output_type": "stream",
     "text": [
      "['divya', 'Mark', 'ranga', 'akbar', 'vinod', 'rama', 'rama']\n"
     ]
    }
   ],
   "source": [
    "print(my_class)"
   ]
  },
  {
   "cell_type": "code",
   "execution_count": null,
   "metadata": {},
   "outputs": [],
   "source": [
    "# inserting a new student in the index 3rd pace, this insert the name and keep the existing ones"
   ]
  },
  {
   "cell_type": "code",
   "execution_count": 41,
   "metadata": {},
   "outputs": [],
   "source": [
    "my_class.insert(3,'Jyoti')"
   ]
  },
  {
   "cell_type": "code",
   "execution_count": 42,
   "metadata": {},
   "outputs": [
    {
     "name": "stdout",
     "output_type": "stream",
     "text": [
      "['divya', 'Mark', 'ranga', 'Jyoti', 'akbar', 'vinod', 'rama', 'rama']\n"
     ]
    }
   ],
   "source": [
    "print(my_class)"
   ]
  },
  {
   "cell_type": "code",
   "execution_count": null,
   "metadata": {},
   "outputs": [],
   "source": [
    "# modifying the element\n",
    "# how to remove the elements from the list\n",
    "#req: remove divya name from the list "
   ]
  },
  {
   "cell_type": "code",
   "execution_count": 45,
   "metadata": {},
   "outputs": [],
   "source": [
    "del my_class[0]"
   ]
  },
  {
   "cell_type": "code",
   "execution_count": 46,
   "metadata": {},
   "outputs": [
    {
     "name": "stdout",
     "output_type": "stream",
     "text": [
      "['Mark', 'ranga', 'Jyoti', 'akbar', 'vinod', 'rama', 'rama']\n"
     ]
    }
   ],
   "source": [
    "print(my_class)"
   ]
  },
  {
   "cell_type": "code",
   "execution_count": 47,
   "metadata": {},
   "outputs": [],
   "source": [
    "# removing the elements by using the pop() method\n",
    "# it will be mainiting a carboncopy of the deletd items\n",
    "# the default nature is it will be deleting elements from the end"
   ]
  },
  {
   "cell_type": "code",
   "execution_count": 48,
   "metadata": {},
   "outputs": [
    {
     "data": {
      "text/plain": [
       "'rama'"
      ]
     },
     "execution_count": 48,
     "metadata": {},
     "output_type": "execute_result"
    }
   ],
   "source": [
    "my_class.pop()#POP() method removes the last element of the index"
   ]
  },
  {
   "cell_type": "code",
   "execution_count": 49,
   "metadata": {},
   "outputs": [
    {
     "data": {
      "text/plain": [
       "'Jyoti'"
      ]
     },
     "execution_count": 49,
     "metadata": {},
     "output_type": "execute_result"
    }
   ],
   "source": [
    "my_class.pop(2)# pop (2) index number removes the element of Index numer marked"
   ]
  },
  {
   "cell_type": "code",
   "execution_count": 53,
   "metadata": {},
   "outputs": [
    {
     "name": "stdout",
     "output_type": "stream",
     "text": [
      "['Mark', 'akbar', 'rama', 'ranga', 'vinod']\n"
     ]
    }
   ],
   "source": [
    "print(my_class)"
   ]
  },
  {
   "cell_type": "code",
   "execution_count": 51,
   "metadata": {},
   "outputs": [],
   "source": [
    "#organising a list\n",
    "#Req: organize the group of students in an alphabetical order"
   ]
  },
  {
   "cell_type": "code",
   "execution_count": 60,
   "metadata": {},
   "outputs": [],
   "source": [
    "names=['shaheen','shahnaz','shirin','zulekha','rabia','zakia']"
   ]
  },
  {
   "cell_type": "code",
   "execution_count": 61,
   "metadata": {},
   "outputs": [
    {
     "name": "stdout",
     "output_type": "stream",
     "text": [
      "['shaheen', 'shahnaz', 'shirin', 'zulekha', 'rabia', 'zakia']\n"
     ]
    }
   ],
   "source": [
    "print(names)"
   ]
  },
  {
   "cell_type": "code",
   "execution_count": 62,
   "metadata": {},
   "outputs": [],
   "source": [
    "names.sort()"
   ]
  },
  {
   "cell_type": "code",
   "execution_count": 63,
   "metadata": {},
   "outputs": [
    {
     "name": "stdout",
     "output_type": "stream",
     "text": [
      "['rabia', 'shaheen', 'shahnaz', 'shirin', 'zakia', 'zulekha']\n"
     ]
    }
   ],
   "source": [
    "print(names)"
   ]
  },
  {
   "cell_type": "code",
   "execution_count": null,
   "metadata": {},
   "outputs": [],
   "source": [
    "#sort the list to just show only\n",
    "#req: temporary sorting we need, it has to go back to original position."
   ]
  },
  {
   "cell_type": "code",
   "execution_count": 78,
   "metadata": {},
   "outputs": [],
   "source": [
    "names_new=['John','Tom','Nancy','Reynold','Hema','Lakshmi','Akram','Bob', 'Charlie']"
   ]
  },
  {
   "cell_type": "code",
   "execution_count": 79,
   "metadata": {},
   "outputs": [
    {
     "name": "stdout",
     "output_type": "stream",
     "text": [
      "['John', 'Tom', 'Nancy', 'Reynold', 'Hema', 'Lakshmi', 'Akram', 'Bob', 'Charlie']\n"
     ]
    }
   ],
   "source": [
    "print(names_new)"
   ]
  },
  {
   "cell_type": "code",
   "execution_count": 80,
   "metadata": {},
   "outputs": [
    {
     "name": "stdout",
     "output_type": "stream",
     "text": [
      "Here is the sorted List:\n",
      "['Akram', 'Bob', 'Charlie', 'Hema', 'John', 'Lakshmi', 'Nancy', 'Reynold', 'Tom']\n"
     ]
    }
   ],
   "source": [
    "print('Here is the sorted List:')\n",
    "print(sorted(names_new))"
   ]
  }
 ],
 "metadata": {
  "kernelspec": {
   "display_name": "Python 3",
   "language": "python",
   "name": "python3"
  },
  "language_info": {
   "codemirror_mode": {
    "name": "ipython",
    "version": 3
   },
   "file_extension": ".py",
   "mimetype": "text/x-python",
   "name": "python",
   "nbconvert_exporter": "python",
   "pygments_lexer": "ipython3",
   "version": "3.7.4"
  }
 },
 "nbformat": 4,
 "nbformat_minor": 2
}
