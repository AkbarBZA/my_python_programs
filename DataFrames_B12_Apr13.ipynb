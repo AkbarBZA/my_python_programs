{
 "cells": [
  {
   "cell_type": "code",
   "execution_count": null,
   "metadata": {},
   "outputs": [],
   "source": [
    "Introduction to DataFrames----> Pandas continuation"
   ]
  },
  {
   "cell_type": "code",
   "execution_count": 1,
   "metadata": {},
   "outputs": [],
   "source": [
    "import numpy as np\n",
    "import pandas as pd"
   ]
  },
  {
   "cell_type": "code",
   "execution_count": null,
   "metadata": {},
   "outputs": [],
   "source": [
    "Series----> is a one dimension structure capable of handling a single dimensional data (linear data)\n",
    "\n",
    "what is a dataframe---> is two dimensional data structure which is capable of applying the operations of rows and columns"
   ]
  },
  {
   "cell_type": "code",
   "execution_count": 4,
   "metadata": {},
   "outputs": [
    {
     "data": {
      "text/html": [
       "<div>\n",
       "<style scoped>\n",
       "    .dataframe tbody tr th:only-of-type {\n",
       "        vertical-align: middle;\n",
       "    }\n",
       "\n",
       "    .dataframe tbody tr th {\n",
       "        vertical-align: top;\n",
       "    }\n",
       "\n",
       "    .dataframe thead th {\n",
       "        text-align: right;\n",
       "    }\n",
       "</style>\n",
       "<table border=\"1\" class=\"dataframe\">\n",
       "  <thead>\n",
       "    <tr style=\"text-align: right;\">\n",
       "      <th></th>\n",
       "    </tr>\n",
       "  </thead>\n",
       "  <tbody>\n",
       "  </tbody>\n",
       "</table>\n",
       "</div>"
      ],
      "text/plain": [
       "Empty DataFrame\n",
       "Columns: []\n",
       "Index: []"
      ]
     },
     "execution_count": 4,
     "metadata": {},
     "output_type": "execute_result"
    }
   ],
   "source": [
    "#General sytax of a DataFrame:\n",
    "pd.DataFrame(data,index,columns,dtype)**"
   ]
  },
  {
   "cell_type": "code",
   "execution_count": null,
   "metadata": {},
   "outputs": [],
   "source": [
    "creating DataFrame:\n",
    " - lists\n",
    " - dict\n",
    " - Series\n",
    " - numpy ndarrays\n",
    " - Another df"
   ]
  },
  {
   "cell_type": "code",
   "execution_count": 5,
   "metadata": {},
   "outputs": [
    {
     "name": "stdout",
     "output_type": "stream",
     "text": [
      "Empty DataFrame\n",
      "Columns: []\n",
      "Index: []\n"
     ]
    }
   ],
   "source": [
    "#creating an empty DataFrame:\n",
    "df=pd.DataFrame()\n",
    "print(df)"
   ]
  },
  {
   "cell_type": "code",
   "execution_count": 9,
   "metadata": {},
   "outputs": [
    {
     "name": "stdout",
     "output_type": "stream",
     "text": [
      "    Name  Balances\n",
      "0  ashok        55\n",
      "1   devi        60\n",
      "2  ranga        60\n",
      "3  akbar        58\n"
     ]
    }
   ],
   "source": [
    "data=[['ashok',55],['devi',60],['ranga',60],['akbar',58]]\n",
    "df=pd.DataFrame(data,columns=['Name','Balances'])\n",
    "print(df)"
   ]
  },
  {
   "cell_type": "code",
   "execution_count": 10,
   "metadata": {},
   "outputs": [
    {
     "name": "stdout",
     "output_type": "stream",
     "text": [
      "    Name  Balances\n",
      "0  ashok      55.0\n",
      "1   devi      60.0\n",
      "2  ranga      60.0\n",
      "3  akbar      58.0\n"
     ]
    }
   ],
   "source": [
    "data=[['ashok',55],['devi',60],['ranga',60],['akbar',58]]\n",
    "df=pd.DataFrame(data,columns=['Name','Balances'],dtype=float)\n",
    "print(df)"
   ]
  },
  {
   "cell_type": "code",
   "execution_count": null,
   "metadata": {},
   "outputs": [],
   "source": [
    "creating a df from a dict of ndarrays"
   ]
  },
  {
   "cell_type": "code",
   "execution_count": 13,
   "metadata": {
    "scrolled": true
   },
   "outputs": [
    {
     "name": "stdout",
     "output_type": "stream",
     "text": [
      "      Name  crediscore\n",
      "0   Tousif          28\n",
      "1   Aditya          32\n",
      "2     Hema          42\n",
      "3  Sandeep          56\n"
     ]
    }
   ],
   "source": [
    "data={'Name':['Tousif','Aditya','Hema','Sandeep'],'crediscore':[28,32,42,56]}\n",
    "df=pd.DataFrame(data)\n",
    "print(df)"
   ]
  },
  {
   "cell_type": "code",
   "execution_count": 14,
   "metadata": {},
   "outputs": [
    {
     "name": "stdout",
     "output_type": "stream",
     "text": [
      "          Name  crediscore\n",
      "Rank1   Tousif          28\n",
      "Rank2   Aditya          32\n",
      "Rank3     Hema          42\n",
      "Rank4  Sandeep          56\n"
     ]
    }
   ],
   "source": [
    "data={'Name':['Tousif','Aditya','Hema','Sandeep'],'crediscore':[28,32,42,56]}\n",
    "df=pd.DataFrame(data,index=['Rank1','Rank2','Rank3','Rank4'])\n",
    "print(df)"
   ]
  },
  {
   "cell_type": "code",
   "execution_count": null,
   "metadata": {},
   "outputs": [],
   "source": []
  },
  {
   "cell_type": "code",
   "execution_count": null,
   "metadata": {},
   "outputs": [],
   "source": [
    "# Remaining Course:\n",
    "#2 sessions -pandas\n",
    "\n",
    "#2 sessions - matplotlib\n",
    "\n",
    "#Intelliji ----\n",
    "\n",
    "#1 - ooops cocepts\n",
    "\n",
    "#1 --exceptional handling part\n",
    "\n",
    "#1- project explantion"
   ]
  },
  {
   "cell_type": "code",
   "execution_count": null,
   "metadata": {},
   "outputs": [],
   "source": []
  }
 ],
 "metadata": {
  "kernelspec": {
   "display_name": "Python 3",
   "language": "python",
   "name": "python3"
  },
  "language_info": {
   "codemirror_mode": {
    "name": "ipython",
    "version": 3
   },
   "file_extension": ".py",
   "mimetype": "text/x-python",
   "name": "python",
   "nbconvert_exporter": "python",
   "pygments_lexer": "ipython3",
   "version": "3.7.4"
  }
 },
 "nbformat": 4,
 "nbformat_minor": 2
}
